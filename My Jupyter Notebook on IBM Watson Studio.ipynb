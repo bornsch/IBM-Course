{
  "metadata": {
    "language_info": {
      "codemirror_mode": {
        "name": "python",
        "version": 3
      },
      "file_extension": ".py",
      "mimetype": "text/x-python",
      "name": "python",
      "nbconvert_exporter": "python",
      "pygments_lexer": "ipython3",
      "version": "3.8"
    },
    "kernelspec": {
      "name": "python",
      "display_name": "Pyolite",
      "language": "python"
    }
  },
  "nbformat_minor": 4,
  "nbformat": 4,
  "cells": [
    {
      "cell_type": "markdown",
      "source": "# My Jupyter Notebook on IBM Watson Studio",
      "metadata": {}
    },
    {
      "cell_type": "markdown",
      "source": "**Vitor Hugo Bornschlegell** \\\nEngineer",
      "metadata": {}
    },
    {
      "cell_type": "markdown",
      "source": "*I am interested in learning data science to bring valuable insights about our company, markets, customers, products, processes and  leverage our business.*",
      "metadata": {}
    },
    {
      "cell_type": "markdown",
      "source": "### The code below calculates 5 times 10:",
      "metadata": {}
    },
    {
      "cell_type": "code",
      "source": "5*10",
      "metadata": {
        "trusted": true
      },
      "execution_count": 1,
      "outputs": [
        {
          "execution_count": 1,
          "output_type": "execute_result",
          "data": {
            "text/plain": "50"
          },
          "metadata": {}
        }
      ]
    },
    {
      "cell_type": "markdown",
      "source": "* This is a bullet list\n* This is a bullet list\n\n1. This is a numbered list\n2. This is a numbered list\n\n| T | h | i | s |  |\n| - | - | - | - | - |\n| i | s |  | a |  |\n| t | a | b | l | e |\n\nGoogle can be found at <a href=\"https://www.google.com/\" target=\"_blank\">this hyperlink</a>.\n\nThis is Google logo:\n![Google Logo](https://logosmarcas.net/wp-content/uploads/2020/09/Google-Logo.png)",
      "metadata": {}
    }
  ]
}